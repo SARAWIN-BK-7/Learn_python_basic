{
 "cells": [
  {
   "cell_type": "markdown",
   "metadata": {},
   "source": [
    "\n",
    "<h5 style = \"text-align: center\"> Python Basic by WIK for Computer Programming</h5>                                                        "
   ]
  },
  {
   "cell_type": "markdown",
   "metadata": {},
   "source": [
    "<h5 >Data type Variable</h5>                                                        "
   ]
  },
  {
   "cell_type": "code",
   "execution_count": 1,
   "metadata": {},
   "outputs": [
    {
     "name": "stdout",
     "output_type": "stream",
     "text": [
      "x = 10 \n",
      "y =  20.45 \n",
      "z =  30.45\n"
     ]
    }
   ],
   "source": [
    "x=10\n",
    "y=20.45\n",
    "z=30.45\n",
    "\n",
    "print(\"x =\",x,\"\\ny = \",y,\"\\nz = \",z)\n",
    "# print(\"x =\",x)\n",
    "# print(\"y =\",y)\n",
    "# print(\"z =\",z)"
   ]
  },
  {
   "cell_type": "code",
   "execution_count": 2,
   "metadata": {},
   "outputs": [
    {
     "name": "stdout",
     "output_type": "stream",
     "text": [
      "Name : None\n",
      "Age : 18\n",
      "Grade : 3.0\n"
     ]
    }
   ],
   "source": [
    "name = input(\"Enter your name : \")\n",
    "age  = int(input(\"Enter your age : \"))\n",
    "grade= float(input(\"Enter your grade : \"))\n",
    "\n",
    "print(\"Name :\",name)\n",
    "print(\"Age :\",age)\n",
    "print(\"Grade :\",grade)"
   ]
  },
  {
   "cell_type": "code",
   "execution_count": 3,
   "metadata": {},
   "outputs": [
    {
     "name": "stdout",
     "output_type": "stream",
     "text": [
      "x=y\n",
      "\n"
     ]
    }
   ],
   "source": [
    "x,y = input(\"Input x, y \").split(',') # Split คือ การแยก \n",
    "if x == y :\n",
    "    print(\"x=y\\n\")"
   ]
  },
  {
   "cell_type": "code",
   "execution_count": 4,
   "metadata": {},
   "outputs": [
    {
     "name": "stdout",
     "output_type": "stream",
     "text": [
      "x is Odd\n"
     ]
    }
   ],
   "source": [
    "# ต้องแปลงเป็น int ก่อน\n",
    "x = input(\"Input x :\")\n",
    "x = int(x)\n",
    "if x%2:\n",
    "    print(\"x is Odd\")\n",
    "else :\n",
    "    print(\"x is Evet\")"
   ]
  },
  {
   "cell_type": "markdown",
   "metadata": {},
   "source": [
    "\n",
    "<h5 style = \"text-align: center\"> LAB11-4</h5>                                                        "
   ]
  },
  {
   "cell_type": "code",
   "execution_count": 5,
   "metadata": {},
   "outputs": [
    {
     "name": "stdout",
     "output_type": "stream",
     "text": [
      "Your grade is D\n"
     ]
    }
   ],
   "source": [
    "score = input(\"Enter your score (0-100) : \")\n",
    "score = int(score)\n",
    "if score>=90:\n",
    "    print(\"Your grade is A\")\n",
    "elif score >=80:\n",
    "    print(\"Your grade is B\")\n",
    "elif score >=70:\n",
    "    print(\"Your grade is C\")\n",
    "elif score >=60:\n",
    "    print(\"Your grade is D\")\n",
    "else:\n",
    "    print(\"Your grade is F\")"
   ]
  },
  {
   "cell_type": "markdown",
   "metadata": {},
   "source": [
    "\n",
    "<h5 style = \"text-align: center\"> LAB11-5</h5>                                                        "
   ]
  },
  {
   "cell_type": "code",
   "execution_count": 6,
   "metadata": {},
   "outputs": [
    {
     "name": "stdout",
     "output_type": "stream",
     "text": [
      "3\n",
      "6\n",
      "9\n",
      "12\n",
      "15\n",
      "18\n",
      "21\n",
      "24\n",
      "27\n",
      "30\n"
     ]
    }
   ],
   "source": [
    "num = 3\n",
    "while num < 33:\n",
    "    print(num)\n",
    "    num += 3 # num = num+3"
   ]
  },
  {
   "cell_type": "code",
   "execution_count": 7,
   "metadata": {},
   "outputs": [
    {
     "name": "stdout",
     "output_type": "stream",
     "text": [
      "3\n",
      "6\n",
      "9\n",
      "12\n",
      "15\n",
      "18\n",
      "21\n",
      "24\n",
      "27\n",
      "30\n"
     ]
    }
   ],
   "source": [
    "num = 3\n",
    "for num in range(3,32,3):\n",
    "    print(num)"
   ]
  },
  {
   "cell_type": "code",
   "execution_count": 8,
   "metadata": {},
   "outputs": [
    {
     "name": "stdout",
     "output_type": "stream",
     "text": [
      "10\n",
      "8\n",
      "6\n",
      "4\n",
      "2\n",
      "0\n",
      "-2\n",
      "-4\n",
      "-6\n",
      "-8\n",
      "-10\n"
     ]
    }
   ],
   "source": [
    "num = 10\n",
    "while num > -11:\n",
    "    print(num)\n",
    "    num -= 2 # num = num+3"
   ]
  },
  {
   "cell_type": "code",
   "execution_count": 9,
   "metadata": {},
   "outputs": [
    {
     "name": "stdout",
     "output_type": "stream",
     "text": [
      "10\n",
      "8\n",
      "6\n",
      "4\n",
      "2\n",
      "0\n",
      "-2\n",
      "-4\n",
      "-6\n",
      "-8\n",
      "-10\n"
     ]
    }
   ],
   "source": [
    "num = 1\n",
    "for num in range(10,-11,-2):\n",
    "    print(num)"
   ]
  },
  {
   "cell_type": "markdown",
   "metadata": {},
   "source": [
    "\n",
    "<h5 style = \"text-align: center\"> LAB11-6</h5>                                                        "
   ]
  },
  {
   "cell_type": "code",
   "execution_count": 10,
   "metadata": {},
   "outputs": [
    {
     "name": "stdout",
     "output_type": "stream",
     "text": [
      "Maximum =  2.11\n",
      "Minimum =  1.98\n",
      "Average =  2.04\n"
     ]
    }
   ],
   "source": [
    "voltage = [2.04, 2.08, 2.01, 1.99, 2.06, 1.98, 2.11]\n",
    "sum = 0\n",
    "_max = voltage[0]\n",
    "_min = voltage[0]\n",
    "\n",
    "for i in range(0,7):\n",
    "    sum = sum + voltage[i]\n",
    "    if voltage[i]>_max:\n",
    "        _max = voltage[i]\n",
    "    if voltage[i]<_min:\n",
    "        _min = voltage[i]\n",
    "avg = sum/7.0\n",
    "\n",
    "print(\"Maximum = \",_max)\n",
    "print(\"Minimum = \",_min)\n",
    "print(\"Average = \",round(avg,2)) # round(avg,2) ปัดเศษขึ้น\n"
   ]
  },
  {
   "cell_type": "markdown",
   "metadata": {},
   "source": [
    "\n",
    "<h5 style = \"text-align: center\"> Function</h5>                                                        "
   ]
  },
  {
   "cell_type": "code",
   "execution_count": 11,
   "metadata": {},
   "outputs": [],
   "source": [
    "def greeting():\n",
    "    print(\"Welcome to our restaurant.\\nPlease select your food form the menu.\\n\")"
   ]
  },
  {
   "cell_type": "code",
   "execution_count": 12,
   "metadata": {},
   "outputs": [],
   "source": [
    "def menu():\n",
    "    choice=input(\" 1.Sandwitch\\n 2.Steak\\n 3.Salad\\n 4.Spaghetti\\n Enter number 1-4 :\")\n",
    "    return choice"
   ]
  },
  {
   "cell_type": "code",
   "execution_count": 13,
   "metadata": {},
   "outputs": [
    {
     "name": "stdout",
     "output_type": "stream",
     "text": [
      "Welcome to our restaurant.\n",
      "Please select your food form the menu.\n",
      "\n",
      "You have selected number 1\n"
     ]
    }
   ],
   "source": [
    "greeting()\n",
    "choice = menu()\n",
    "print(\"You have selected number\",choice)"
   ]
  },
  {
   "cell_type": "markdown",
   "metadata": {},
   "source": [
    "\n",
    "<h5 style = \"text-align: center\"> LAB-11-8</h5>                                                        "
   ]
  },
  {
   "cell_type": "code",
   "execution_count": 14,
   "metadata": {},
   "outputs": [],
   "source": [
    "import random as rd\n",
    "\n",
    "def dice_roll():\n",
    "    ran1=rd.randrange(1,6,1)\n",
    "    ran2=rd.randrange(1,6,1)\n",
    "    ran3=rd.randrange(1,6,1)\n",
    "    return ran1, ran2, ran3"
   ]
  },
  {
   "cell_type": "code",
   "execution_count": 15,
   "metadata": {},
   "outputs": [
    {
     "name": "stdout",
     "output_type": "stream",
     "text": [
      "Dice1 : 4\n",
      "Dice2 : 2\n",
      "Dice3 : 3\n"
     ]
    }
   ],
   "source": [
    "random1,random2,random3=dice_roll()\n",
    "print(\"Dice1 :\",random1)\n",
    "print(\"Dice2 :\",random2)\n",
    "print(\"Dice3 :\",random3)\n"
   ]
  }
 ],
 "metadata": {
  "kernelspec": {
   "display_name": "Python 3.10.6 64-bit",
   "language": "python",
   "name": "python3"
  },
  "language_info": {
   "codemirror_mode": {
    "name": "ipython",
    "version": 3
   },
   "file_extension": ".py",
   "mimetype": "text/x-python",
   "name": "python",
   "nbconvert_exporter": "python",
   "pygments_lexer": "ipython3",
   "version": "3.10.6"
  },
  "orig_nbformat": 4,
  "vscode": {
   "interpreter": {
    "hash": "e593ac106456af50ce7af38f9671c411b49d6cd90f9b885e167f0f594e09038c"
   }
  }
 },
 "nbformat": 4,
 "nbformat_minor": 2
}
